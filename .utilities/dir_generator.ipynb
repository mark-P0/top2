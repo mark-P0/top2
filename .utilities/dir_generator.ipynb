{
 "cells": [
  {
   "cell_type": "code",
   "execution_count": 9,
   "metadata": {},
   "outputs": [
    {
     "name": "stdout",
     "output_type": "stream",
     "text": [
      "mkdir ./01-IntroductionToHTMLAndCSS/ ./02-ElementsAndTags/ ./03-HTMLBoilerplate/ ./04-WorkingWithText/ ./05-Lists/ ./06-LinksAndImages/ ./07-CommitMessages/ ./08-ProjectRecipes/\n",
      "\n",
      "touch 01-IntroductionToHTMLAndCSS/README.md 02-ElementsAndTags/README.md 03-HTMLBoilerplate/README.md 04-WorkingWithText/README.md 05-Lists/README.md 06-LinksAndImages/README.md 07-CommitMessages/README.md 08-ProjectRecipes/README.md\n",
      "\n",
      "echo \"# Introduction to HTML and CSS\" > 01-IntroductionToHTMLAndCSS/README.md; echo \"# Elements and Tags\" > 02-ElementsAndTags/README.md; echo \"# HTML Boilerplate\" > 03-HTMLBoilerplate/README.md; echo \"# Working with Text\" > 04-WorkingWithText/README.md; echo \"# Lists\" > 05-Lists/README.md; echo \"# Links and Images\" > 06-LinksAndImages/README.md; echo \"# Commit Messages\" > 07-CommitMessages/README.md; echo \"# Project: Recipes\" > 08-ProjectRecipes/README.md\n",
      "\n"
     ]
    },
    {
     "data": {
      "text/plain": [
       "['01-IntroductionToHTMLAndCSS',\n",
       " '02-ElementsAndTags',\n",
       " '03-HTMLBoilerplate',\n",
       " '04-WorkingWithText',\n",
       " '05-Lists',\n",
       " '06-LinksAndImages',\n",
       " '07-CommitMessages',\n",
       " '08-ProjectRecipes']"
      ]
     },
     "execution_count": 9,
     "metadata": {},
     "output_type": "execute_result"
    }
   ],
   "source": [
    "INPUT = '''\n",
    "1. Introduction to HTML and CSS\n",
    "2. Elements and Tags\n",
    "3. HTML Boilerplate\n",
    "4. Working with Text\n",
    "5. Lists\n",
    "6. Links and Images\n",
    "7. Commit Messages\n",
    "8. Project: Recipes \n",
    "'''\n",
    "\n",
    "INPUT_LIST = INPUT.strip().split('\\n')\n",
    "dir_name_list = INPUT_LIST.copy()\n",
    "\n",
    "## Capitalize each word in each name\n",
    "sep = ' '\n",
    "dir_name_list = [\n",
    "    sep.join(word[0].upper() + word[1:] for word in name.split(sep))\n",
    "    for name in dir_name_list\n",
    "]\n",
    "\n",
    "\n",
    "## Remove non-alphabetical characters in each name\n",
    "dir_name_list = [\n",
    "    '{number:0>2}-{filename}'.format(\n",
    "        number=ct,\n",
    "        filename=''.join(char for char in name if char.isalpha())\n",
    "    )\n",
    "    for ct, name in enumerate(dir_name_list, start=1)\n",
    "]\n",
    "\n",
    "\n",
    "## Use generated dir names on `mkdir`\n",
    "# mkdir = ' '.join(['mkdir'] + dir_name_list)\n",
    "mkdir = ' '.join(\n",
    "    ['mkdir'] \n",
    "    + [\n",
    "        f'./{name}/'  # Some unnecessary slashes\n",
    "        for name in dir_name_list\n",
    "    ]\n",
    ")\n",
    "print(mkdir, end='\\n' * 2)\n",
    "\n",
    "\n",
    "## Add READMEs on each dir names\n",
    "touch = ' '.join(\n",
    "    ['touch'] \n",
    "    + [\n",
    "        f'{name}/README.md'\n",
    "        for name in dir_name_list\n",
    "    ]\n",
    ")\n",
    "print(touch, end='\\n' * 2)\n",
    "\n",
    "\n",
    "## Add READMEs on each dir names and initialize header\n",
    "header_sep = ' '\n",
    "echo = '; '.join(\n",
    "    'echo \"{content}\" > {filename}'.format(\n",
    "        content='# ' + header_sep.join(\n",
    "            header.split(header_sep)[1:]\n",
    "        ), \n",
    "        filename=f'{name}/README.md'\n",
    "    )\n",
    "    for header, name in zip(\n",
    "        INPUT_LIST, \n",
    "        dir_name_list\n",
    "    )\n",
    ")\n",
    "print(echo, end='\\n' * 2)\n",
    "\n",
    "\n",
    "## Output final list\n",
    "dir_name_list"
   ]
  }
 ],
 "metadata": {
  "interpreter": {
   "hash": "3cc7452d59a4128c7da48b52ec3fb3fa0d01ea1f342cddc3c37340fefa791b1e"
  },
  "kernelspec": {
   "display_name": "Python 3.9.1 64-bit",
   "language": "python",
   "name": "python3"
  },
  "language_info": {
   "codemirror_mode": {
    "name": "ipython",
    "version": 3
   },
   "file_extension": ".py",
   "mimetype": "text/x-python",
   "name": "python",
   "nbconvert_exporter": "python",
   "pygments_lexer": "ipython3",
   "version": "3.9.1"
  },
  "orig_nbformat": 4
 },
 "nbformat": 4,
 "nbformat_minor": 2
}

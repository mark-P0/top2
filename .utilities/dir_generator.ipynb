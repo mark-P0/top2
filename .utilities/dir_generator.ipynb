{
 "cells": [
  {
   "cell_type": "code",
   "execution_count": 28,
   "metadata": {},
   "outputs": [],
   "source": [
    "def parse_words(string: str) -> list[str]:\n",
    "    return string.split(\" \")\n",
    "\n",
    "\n",
    "def capitalize(string: str) -> str:\n",
    "    \"\"\"\n",
    "    Will only touch the first character,\n",
    "    unlike `str.capitalize()` or `str.title()`\n",
    "    \"\"\"\n",
    "    return string[0].upper() + string[1:]\n",
    "\n",
    "\n",
    "def keep_letters_numbers(string: str) -> str:\n",
    "    return \"\".join(char for char in string if char.isalnum())\n",
    "\n",
    "\n",
    "def pascal_case(string: str) -> str:\n",
    "    return \"\".join(\n",
    "        capitalize(keep_letters_numbers(word)) for word in parse_words(string)\n",
    "    )"
   ]
  },
  {
   "cell_type": "code",
   "execution_count": 31,
   "metadata": {},
   "outputs": [
    {
     "name": "stdout",
     "output_type": "stream",
     "text": [
      "mkdir ./01-IntroductionToExpress/ ./02-Express101/ ./03-Express102CRUDAndMVC/ ./04-ProjectMiniMessageBoard/ ./05-Deployment/ ./06-Express103RoutesAndControllers/ ./07-Express104ViewTemplates/ ./08-ProjectExpress105FormsAndDeployment/ ./09-ProjectInventoryApplication/\n",
      "\n",
      "touch ./01-IntroductionToExpress/README.md ./02-Express101/README.md ./03-Express102CRUDAndMVC/README.md ./04-ProjectMiniMessageBoard/README.md ./05-Deployment/README.md ./06-Express103RoutesAndControllers/README.md ./07-Express104ViewTemplates/README.md ./08-ProjectExpress105FormsAndDeployment/README.md ./09-ProjectInventoryApplication/README.md\n",
      "\n",
      "echo \"# Introduction to Express\" > ./01-IntroductionToExpress/README.md; echo \"# Express 101\" > ./02-Express101/README.md; echo \"# Express 102: CRUD and MVC\" > ./03-Express102CRUDAndMVC/README.md; echo \"# Project: Mini Message Board\" > ./04-ProjectMiniMessageBoard/README.md; echo \"# Deployment\" > ./05-Deployment/README.md; echo \"# Express 103: Routes and Controllers\" > ./06-Express103RoutesAndControllers/README.md; echo \"# Express 104: View Templates\" > ./07-Express104ViewTemplates/README.md; echo \"# Project: Express 105: Forms and Deployment\" > ./08-ProjectExpress105FormsAndDeployment/README.md; echo \"# Project: Inventory Application\" > ./09-ProjectInventoryApplication/README.md\n"
     ]
    },
    {
     "data": {
      "text/plain": [
       "['./01-IntroductionToExpress/',\n",
       " './02-Express101/',\n",
       " './03-Express102CRUDAndMVC/',\n",
       " './04-ProjectMiniMessageBoard/',\n",
       " './05-Deployment/',\n",
       " './06-Express103RoutesAndControllers/',\n",
       " './07-Express104ViewTemplates/',\n",
       " './08-ProjectExpress105FormsAndDeployment/',\n",
       " './09-ProjectInventoryApplication/']"
      ]
     },
     "execution_count": 31,
     "metadata": {},
     "output_type": "execute_result"
    }
   ],
   "source": [
    "ALL_TITLES = '''\n",
    "Introduction to Express\n",
    "Express 101\n",
    "Express 102: CRUD and MVC\n",
    "Project: Mini Message Board\n",
    "Deployment\n",
    "Express 103: Routes and Controllers\n",
    "Express 104: View Templates\n",
    "Project: Express 105: Forms and Deployment\n",
    "Project: Inventory Application\n",
    "'''\n",
    "\n",
    "titles = ALL_TITLES.strip().splitlines()\n",
    "titles_pascal = [\n",
    "    pascal_case(title)\n",
    "    for title in titles\n",
    "]\n",
    "\n",
    "dirs = [\n",
    "    f'./{ct:0>2}-{title}/'\n",
    "    for ct, title in enumerate(titles_pascal, start=1)\n",
    "]\n",
    "readme_dirs = [\n",
    "    dir + 'README.md'\n",
    "    for dir in dirs\n",
    "]\n",
    "\n",
    "mkdir = ' '.join(\n",
    "    ('mkdir', *dirs)\n",
    ")\n",
    "touch_readme = ' '.join(\n",
    "    ('touch', *readme_dirs)\n",
    ")\n",
    "echo_readme_title = '; '.join(\n",
    "    f'echo \"# {title}\" > {readme_dir}'\n",
    "    for title, readme_dir in zip(titles, readme_dirs)\n",
    ")\n",
    "\n",
    "print(\n",
    "    mkdir,\n",
    "    touch_readme,\n",
    "    echo_readme_title,\n",
    "    sep='\\n\\n'\n",
    ")\n",
    "dirs"
   ]
  }
 ],
 "metadata": {
  "interpreter": {
   "hash": "3cc7452d59a4128c7da48b52ec3fb3fa0d01ea1f342cddc3c37340fefa791b1e"
  },
  "kernelspec": {
   "display_name": "Python 3.9.1 64-bit",
   "language": "python",
   "name": "python3"
  },
  "language_info": {
   "codemirror_mode": {
    "name": "ipython",
    "version": 3
   },
   "file_extension": ".py",
   "mimetype": "text/x-python",
   "name": "python",
   "nbconvert_exporter": "python",
   "pygments_lexer": "ipython3",
   "version": "3.11.2"
  },
  "orig_nbformat": 4
 },
 "nbformat": 4,
 "nbformat_minor": 2
}

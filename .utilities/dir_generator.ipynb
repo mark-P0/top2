{
 "cells": [
  {
   "cell_type": "code",
   "execution_count": 1,
   "metadata": {},
   "outputs": [
    {
     "name": "stdout",
     "output_type": "stream",
     "text": [
      "mkdir ./01-ManagingStateWithTheContextAPI/ ./02-ReducingState/ ./03-RefsAndMemoization/\n",
      "\n",
      "touch 01-ManagingStateWithTheContextAPI/README.md 02-ReducingState/README.md 03-RefsAndMemoization/README.md\n",
      "\n",
      "echo \"# Managing State With The Context API\" > 01-ManagingStateWithTheContextAPI/README.md; echo \"# Reducing State\" > 02-ReducingState/README.md; echo \"# Refs And Memoization\" > 03-RefsAndMemoization/README.md\n",
      "\n"
     ]
    },
    {
     "data": {
      "text/plain": [
       "['01-ManagingStateWithTheContextAPI',\n",
       " '02-ReducingState',\n",
       " '03-RefsAndMemoization']"
      ]
     },
     "execution_count": 1,
     "metadata": {},
     "output_type": "execute_result"
    }
   ],
   "source": [
    "INPUT = '''\n",
    "Managing State With The Context API\n",
    "Reducing State\n",
    "Refs And Memoization\n",
    "'''\n",
    "\n",
    "INPUT_LIST = INPUT.strip().split('\\n')\n",
    "dir_name_list = INPUT_LIST.copy()\n",
    "\n",
    "## Capitalize each word in each name\n",
    "sep = ' '\n",
    "dir_name_list = [\n",
    "    sep.join(word[0].upper() + word[1:] for word in name.split(sep))\n",
    "    for name in dir_name_list\n",
    "]\n",
    "\n",
    "\n",
    "## Remove non-alphabetical characters in each name\n",
    "dir_name_list = [\n",
    "    '{number:0>2}-{filename}'.format(\n",
    "        number=ct,\n",
    "        filename=''.join(char for char in name if char.isalpha())\n",
    "    )\n",
    "    for ct, name in enumerate(dir_name_list, start=1)\n",
    "]\n",
    "\n",
    "\n",
    "## Use generated dir names on `mkdir`\n",
    "# mkdir = ' '.join(['mkdir'] + dir_name_list)\n",
    "mkdir = ' '.join(\n",
    "    ['mkdir'] \n",
    "    + [\n",
    "        f'./{name}/'  # Some unnecessary slashes\n",
    "        for name in dir_name_list\n",
    "    ]\n",
    ")\n",
    "print(mkdir, end='\\n' * 2)\n",
    "\n",
    "\n",
    "## Add READMEs on each dir names\n",
    "touch = ' '.join(\n",
    "    ['touch'] \n",
    "    + [\n",
    "        f'{name}/README.md'\n",
    "        for name in dir_name_list\n",
    "    ]\n",
    ")\n",
    "print(touch, end='\\n' * 2)\n",
    "\n",
    "\n",
    "## Add READMEs on each dir names and initialize header\n",
    "header_sep = ' '\n",
    "echo = '; '.join(\n",
    "    'echo \"{content}\" > {filename}'.format(\n",
    "        content=f'# {header}',\n",
    "        filename=f'{name}/README.md'\n",
    "    )\n",
    "    for header, name in zip(\n",
    "        INPUT_LIST, \n",
    "        dir_name_list\n",
    "    )\n",
    ")\n",
    "print(echo, end='\\n' * 2)\n",
    "\n",
    "\n",
    "## Output final list\n",
    "dir_name_list\n"
   ]
  }
 ],
 "metadata": {
  "interpreter": {
   "hash": "3cc7452d59a4128c7da48b52ec3fb3fa0d01ea1f342cddc3c37340fefa791b1e"
  },
  "kernelspec": {
   "display_name": "Python 3.9.1 64-bit",
   "language": "python",
   "name": "python3"
  },
  "language_info": {
   "codemirror_mode": {
    "name": "ipython",
    "version": 3
   },
   "file_extension": ".py",
   "mimetype": "text/x-python",
   "name": "python",
   "nbconvert_exporter": "python",
   "pygments_lexer": "ipython3",
   "version": "3.11.2"
  },
  "orig_nbformat": 4
 },
 "nbformat": 4,
 "nbformat_minor": 2
}

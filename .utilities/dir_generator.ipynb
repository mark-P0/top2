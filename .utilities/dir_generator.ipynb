{
 "cells": [
  {
   "cell_type": "code",
   "execution_count": 1,
   "metadata": {},
   "outputs": [
    {
     "name": "stdout",
     "output_type": "stream",
     "text": [
      "mkdir ./01-IntroductionToWebAccessibility/ ./02-TheWebContentAccessibilityGuidelinesWCAG/ ./03-SemanticHTML/ ./04-AccessibleColors/ ./05-KeyboardNavigation/ ./06-MeaningfulText/ ./07-WAIARIA/ ./08-AccessibilityAuditing/\n",
      "\n",
      "touch 01-IntroductionToWebAccessibility/README.md 02-TheWebContentAccessibilityGuidelinesWCAG/README.md 03-SemanticHTML/README.md 04-AccessibleColors/README.md 05-KeyboardNavigation/README.md 06-MeaningfulText/README.md 07-WAIARIA/README.md 08-AccessibilityAuditing/README.md\n",
      "\n",
      "echo \"# Introduction to Web Accessibility\" > 01-IntroductionToWebAccessibility/README.md; echo \"# The Web Content Accessibility Guidelines (WCAG)\" > 02-TheWebContentAccessibilityGuidelinesWCAG/README.md; echo \"# Semantic HTML\" > 03-SemanticHTML/README.md; echo \"# Accessible Colors\" > 04-AccessibleColors/README.md; echo \"# Keyboard Navigation\" > 05-KeyboardNavigation/README.md; echo \"# Meaningful Text\" > 06-MeaningfulText/README.md; echo \"# WAI-ARIA\" > 07-WAIARIA/README.md; echo \"# Accessibility Auditing\" > 08-AccessibilityAuditing/README.md\n",
      "\n"
     ]
    },
    {
     "data": {
      "text/plain": [
       "['01-IntroductionToWebAccessibility',\n",
       " '02-TheWebContentAccessibilityGuidelinesWCAG',\n",
       " '03-SemanticHTML',\n",
       " '04-AccessibleColors',\n",
       " '05-KeyboardNavigation',\n",
       " '06-MeaningfulText',\n",
       " '07-WAIARIA',\n",
       " '08-AccessibilityAuditing']"
      ]
     },
     "execution_count": 1,
     "metadata": {},
     "output_type": "execute_result"
    }
   ],
   "source": [
    "INPUT = '''\n",
    "Introduction to Web Accessibility\n",
    "The Web Content Accessibility Guidelines (WCAG)\n",
    "Semantic HTML\n",
    "Accessible Colors\n",
    "Keyboard Navigation\n",
    "Meaningful Text\n",
    "WAI-ARIA\n",
    "Accessibility Auditing\n",
    "'''\n",
    "\n",
    "INPUT_LIST = INPUT.strip().split('\\n')\n",
    "dir_name_list = INPUT_LIST.copy()\n",
    "\n",
    "## Capitalize each word in each name\n",
    "sep = ' '\n",
    "dir_name_list = [\n",
    "    sep.join(word[0].upper() + word[1:] for word in name.split(sep))\n",
    "    for name in dir_name_list\n",
    "]\n",
    "\n",
    "\n",
    "## Remove non-alphabetical characters in each name\n",
    "dir_name_list = [\n",
    "    '{number:0>2}-{filename}'.format(\n",
    "        number=ct,\n",
    "        filename=''.join(char for char in name if char.isalpha())\n",
    "    )\n",
    "    for ct, name in enumerate(dir_name_list, start=1)\n",
    "]\n",
    "\n",
    "\n",
    "## Use generated dir names on `mkdir`\n",
    "# mkdir = ' '.join(['mkdir'] + dir_name_list)\n",
    "mkdir = ' '.join(\n",
    "    ['mkdir'] \n",
    "    + [\n",
    "        f'./{name}/'  # Some unnecessary slashes\n",
    "        for name in dir_name_list\n",
    "    ]\n",
    ")\n",
    "print(mkdir, end='\\n' * 2)\n",
    "\n",
    "\n",
    "## Add READMEs on each dir names\n",
    "touch = ' '.join(\n",
    "    ['touch'] \n",
    "    + [\n",
    "        f'{name}/README.md'\n",
    "        for name in dir_name_list\n",
    "    ]\n",
    ")\n",
    "print(touch, end='\\n' * 2)\n",
    "\n",
    "\n",
    "## Add READMEs on each dir names and initialize header\n",
    "header_sep = ' '\n",
    "echo = '; '.join(\n",
    "    'echo \"{content}\" > {filename}'.format(\n",
    "        content=f'# {header}', \n",
    "        filename=f'{name}/README.md'\n",
    "    )\n",
    "    for header, name in zip(\n",
    "        INPUT_LIST, \n",
    "        dir_name_list\n",
    "    )\n",
    ")\n",
    "print(echo, end='\\n' * 2)\n",
    "\n",
    "\n",
    "## Output final list\n",
    "dir_name_list"
   ]
  }
 ],
 "metadata": {
  "interpreter": {
   "hash": "3cc7452d59a4128c7da48b52ec3fb3fa0d01ea1f342cddc3c37340fefa791b1e"
  },
  "kernelspec": {
   "display_name": "Python 3.9.1 64-bit",
   "language": "python",
   "name": "python3"
  },
  "language_info": {
   "codemirror_mode": {
    "name": "ipython",
    "version": 3
   },
   "file_extension": ".py",
   "mimetype": "text/x-python",
   "name": "python",
   "nbconvert_exporter": "python",
   "pygments_lexer": "ipython3",
   "version": "3.9.1"
  },
  "orig_nbformat": 4
 },
 "nbformat": 4,
 "nbformat_minor": 2
}
